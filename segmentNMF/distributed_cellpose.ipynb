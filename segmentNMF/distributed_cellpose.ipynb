{
 "cells": [
  {
   "cell_type": "markdown",
   "id": "2d91cd6d-0643-476d-a29d-47d7d2842ab2",
   "metadata": {},
   "source": [
    "## Read data\n",
    "---"
   ]
  },
  {
   "cell_type": "code",
   "execution_count": 1,
   "id": "b78dc926-2ce8-46b3-9529-0989b9760256",
   "metadata": {},
   "outputs": [
    {
     "name": "stdout",
     "output_type": "stream",
     "text": [
      "[0.213335 0.11661  0.11661 ]\n",
      "(1620, 9237, 5488) (1620, 9237, 5488)\n",
      "(405, 1154, 686) (405, 1154, 686) (405, 1154, 686)\n"
     ]
    }
   ],
   "source": [
    "import zarr, numpy as np, nrrd\n",
    "\n",
    "# filepaths\n",
    "p = '/nrs/ahrens/ahrenslab/fleishmang/NewFullPipeline/F53/expanded/R1'\n",
    "zarr_path = p + '/export.n5'\n",
    "mask_path = p + '/segmentation/mask.nrrd'\n",
    "rrna_path = '/c2/s0'\n",
    "dapi_path = '/c3/s0'\n",
    "expansion_factor = 2\n",
    "\n",
    "# read lazy array and metadata\n",
    "image_zarr = zarr.open(store=zarr.N5Store(zarr_path), mode='r')\n",
    "image_meta = image_zarr.attrs.asdict()\n",
    "spacing = np.array(image_meta['pixelResolution']['dimensions']) / expansion_factor\n",
    "spacing = spacing[::-1]  # using zyx order\n",
    "dapi_zarr = image_zarr[dapi_path]\n",
    "rrna_zarr = image_zarr[rrna_path]\n",
    "\n",
    "# get whole volumes at s3 and mask\n",
    "dapi_s3, _ = nrrd.read(p + '/c3s3.nrrd')\n",
    "rrna_s3, _ = nrrd.read(p + '/c2s3.nrrd')\n",
    "mask, _ = nrrd.read(mask_path)\n",
    "dapi_s3 = dapi_s3.transpose(2,1,0)\n",
    "rrna_s3 = rrna_s3.transpose(2,1,0)\n",
    "mask = mask.transpose(2,1,0)\n",
    "\n",
    "# sanity checks\n",
    "print(spacing)\n",
    "print(dapi_zarr.shape, rrna_zarr.shape)\n",
    "print(dapi_s3.shape, rrna_s3.shape, mask.shape)"
   ]
  },
  {
   "cell_type": "markdown",
   "id": "c2643772-4ae6-456c-bc8e-1d007a462155",
   "metadata": {
    "tags": []
   },
   "source": [
    "## Get histograms\n",
    "---"
   ]
  },
  {
   "cell_type": "code",
   "execution_count": 2,
   "id": "dd49ee1a-d83a-4f73-9e0a-5bc15ba6879f",
   "metadata": {},
   "outputs": [
    {
     "name": "stdout",
     "output_type": "stream",
     "text": [
      "1470 382 3.8481675392670156\n"
     ]
    },
    {
     "data": {
      "text/plain": [
       "[<matplotlib.lines.Line2D at 0x14eec7c98640>]"
      ]
     },
     "execution_count": 2,
     "metadata": {},
     "output_type": "execute_result"
    },
    {
     "data": {
      "image/png": "[encoded data removed]",
      "text/plain": [
       "<Figure size 648x648 with 2 Axes>"
      ]
     },
     "metadata": {
      "needs_background": "light"
     },
     "output_type": "display_data"
    }
   ],
   "source": [
    "import matplotlib.pyplot as plt\n",
    "from skimage import filters\n",
    "\n",
    "mn, mx = np.percentile(dapi_s3, (8, 98))\n",
    "dapi_hist, dapi_edges = np.histogram(dapi_s3[mask > 0], bins=int(mx - mn), range=(mn, mx))\n",
    "mn, mx = np.percentile(rrna_s3, (8, 98))\n",
    "rrna_hist, rrna_edges = np.histogram(rrna_s3[mask > 0], bins=int(mx - mn), range=(mn, mx))\n",
    "\n",
    "t1 = filters.threshold_otsu(hist=dapi_hist)\n",
    "t2 = filters.threshold_otsu(hist=rrna_hist)\n",
    "ratio = t1 / t2\n",
    "print(t1, t2, ratio)\n",
    "\n",
    "figure, axes = plt.subplots(1, 2, figsize=(9, 9))\n",
    "axes[0].plot(dapi_edges[1:], dapi_hist)\n",
    "axes[1].plot(rrna_edges[1:], rrna_hist)"
   ]
  },
  {
   "cell_type": "markdown",
   "id": "ef82d653-899a-4d99-b51e-98dd23a5680c",
   "metadata": {},
   "source": [
    "## Set preprocessing steps\n",
    "---"
   ]
  },
  {
   "cell_type": "code",
   "execution_count": 3,
   "id": "fd0f9ea1-687a-4269-9078-ab4b7f41a107",
   "metadata": {},
   "outputs": [],
   "source": [
    "from scipy.ndimage import gaussian_filter\n",
    "\n",
    "### PREPROCESSING STEPS MUST ACCEPT A coords ARGUMENT EVEN IF IT IS NOT USED\n",
    "\n",
    "# use rRna channel to improve nuclei boundaries\n",
    "def combine_channels(image, coords):\n",
    "    return image - (ratio - 1) * rrna_zarr[coords]\n",
    "\n",
    "# enhance high resolution detail\n",
    "def unsharp(image, sigma_one, weight, iterations, sigma_two, coords):\n",
    "    image = image.astype(np.float32)\n",
    "    for i in range(iterations):\n",
    "        image = image + (image - gaussian_filter(image, sigma_one)) * weight\n",
    "    image = gaussian_filter(image, sigma_two / spacing)\n",
    "    image[image < 0] = 0\n",
    "    return np.round(image).astype(np.uint16)\n",
    "\n",
    "# package for distributed cellpose\n",
    "preprocessing_steps = [\n",
    "    (combine_channels, {}),\n",
    "    (unsharp, {'sigma_one':1.0/spacing, 'weight':0.1, 'iterations':5, 'sigma_two':0.1}),\n",
    "]"
   ]
  },
  {
   "cell_type": "markdown",
   "id": "b43d33b6-e84f-4b7a-89e9-fa39564736e3",
   "metadata": {},
   "source": [
    "## Segment\n",
    "---"
   ]
  },
  {
   "cell_type": "code",
   "execution_count": 4,
   "id": "30e89682-a046-4ac3-8cef-dbbee9261f24",
   "metadata": {},
   "outputs": [
    {
     "name": "stderr",
     "output_type": "stream",
     "text": [
      "/groups/scicompsoft/home/fleishmang/bin/miniconda3/envs/CircuitSeeker/lib/python3.8/site-packages/dask_jobqueue/core.py:20: FutureWarning: tmpfile is deprecated and will be removed in a future release. Please use dask.utils.tmpfile instead.\n",
      "  from distributed.utils import tmpfile\n",
      "IBM Spectrum LSF 10.1.0.0 build 601088, Apr 15 2022\n",
      "Copyright International Business Machines Corp. 1992, 2016.\n",
      "US Government Users Restricted Rights - Use, duplication or disclosure restricted by GSA ADP Schedule Contract with IBM Corp.\n",
      "\n",
      "  binary type: linux3.10-glibc2.17-x86_64\n"
     ]
    }
   ],
   "source": [
    "# set up model\n",
    "from cellpose.distribute import distributed_eval\n",
    "import pickle\n",
    "\n",
    "# # set model arguments\n",
    "# model_kwargs = {'gpu':True, 'model_type':'cyto2', 'net_avg':True}\n",
    "\n",
    "# # set evaluation arguments\n",
    "# eval_kwargs = {'diameter':40,\n",
    "#                'anisotropy':spacing[0] / spacing[1],\n",
    "#                'z_axis':0,\n",
    "#                'channels':[0,0],\n",
    "#                'do_3D':True,\n",
    "#                'min_size':15000,\n",
    "#                'cellprob_threshold':1.0,\n",
    "#                'net_avg':True,\n",
    "# }\n",
    "\n",
    "# # set blocksize\n",
    "# blocksize = [256, 256, 256]\n",
    "\n",
    "# # some dask config settings\n",
    "# config = {\n",
    "#     'distributed.worker.memory.target':0.9,\n",
    "#     'distributed.worker.memory.spill':0.9,\n",
    "#     'distributed.worker.memory.pause':0.9,\n",
    "#     'distributed.comm.timeouts.connect':'300s',\n",
    "# }\n",
    "\n",
    "# # set cluster arguments\n",
    "# cluster_kwargs = {\n",
    "#     'project':'ahrens',\n",
    "#     'ncpus':4,\n",
    "#     'threads':1,\n",
    "#     'min_workers':175,\n",
    "#     'max_workers':175,\n",
    "#     'queue':'gpu_rtx',\n",
    "#     'job_extra':['-gpu \"num=1\"'],\n",
    "#     'walltime':'12:00',\n",
    "#     'config':config,\n",
    "# }\n",
    "\n",
    "# # run segmentation\n",
    "# masks, boxes = distributed_eval(\n",
    "#     dapi_zarr,\n",
    "#     blocksize,\n",
    "#     mask=mask,\n",
    "#     preprocessing_steps=preprocessing_steps,\n",
    "#     model_kwargs=model_kwargs,\n",
    "#     eval_kwargs=eval_kwargs,\n",
    "#     cluster_kwargs=cluster_kwargs,\n",
    "#     write_path='./segmentation.zarr'\n",
    "# )\n",
    "\n",
    "# with open('./boxes.pkl', 'wb') as f:\n",
    "#     pickle.dump(boxes, f)\n",
    "\n",
    "masks = zarr.open('./segmentation.zarr', mode='r')\n",
    "with open('./boxes.pkl', 'rb') as f:\n",
    "    boxes = pickle.load(f)"
   ]
  },
  {
   "cell_type": "markdown",
   "id": "77425dad-38db-4752-a4d5-3cee012ccdaf",
   "metadata": {},
   "source": [
    "## Post-process"
   ]
  },
  {
   "cell_type": "code",
   "execution_count": 5,
   "id": "bb297f98-c653-4da9-bf15-b5d03adfbb24",
   "metadata": {},
   "outputs": [],
   "source": [
    "from cellpose.merge_and_split import merge_small_segments, relabel_segments, split_large_segments\n",
    "\n",
    "# min_box_volume = 30000,\n",
    "# new_labeling, boxes_processed = merge_small_segments(\n",
    "#     masks, boxes, min_box_volume,\n",
    "# )\n",
    "\n",
    "# masks_processed = relabel_segments(\n",
    "#     masks,\n",
    "#     new_labeling,\n",
    "#     write_path='./segmentation_merged_and_split.zarr',\n",
    "#     cluster_kwargs={\n",
    "#         'project':'ahrens',\n",
    "#         'ncpus':1,\n",
    "#         'threads':1,\n",
    "#         'min_workers':100,\n",
    "#         'max_workers':100,\n",
    "#     },\n",
    "# )\n",
    "\n",
    "# # CAUTION: split algorithm writes data in place\n",
    "# max_box_volume = 135000\n",
    "# masks_processed, boxes_processed = split_large_segments(\n",
    "#     masks_processed, boxes_processed, max_box_volume,\n",
    "# )\n",
    "\n",
    "# with open('./boxes_merged_and_split.pkl', 'wb') as f:\n",
    "#     pickle.dump(boxes_processed, f)\n",
    "\n",
    "masks_processed = zarr.open('./segmentation_merged_and_split.zarr', mode='r')\n",
    "with open('./boxes_merged_and_split.pkl', 'rb') as f:\n",
    "    boxes_processed = pickle.load(f)"
   ]
  },
  {
   "cell_type": "markdown",
   "id": "6324d872-44fe-44fd-b605-46b58a4274c9",
   "metadata": {},
   "source": [
    "## Make pyramid\n",
    "---"
   ]
  },
  {
   "cell_type": "code",
   "execution_count": 6,
   "id": "6c49f7c2-8842-4f1b-a6ee-34679557239a",
   "metadata": {},
   "outputs": [],
   "source": [
    "from scipy.ndimage import zoom\n",
    "\n",
    "# CAUTION: you need at least 400GB RAM for this!\n",
    "\n",
    "# image data\n",
    "zarr_path = p + '/export.n5'\n",
    "zarr_image = zarr.open(store=zarr.N5Store(zarr_path), mode='r')\n",
    "scales = ['s3', 's2', 's1']\n",
    "\n",
    "# read mask data\n",
    "masks_inmemory = masks_processed[...]\n",
    "\n",
    "# resample\n",
    "for scale in scales:\n",
    "    ratio = np.array(zarr_image['/c3/' + scale].shape) / masks_inmemory.shape\n",
    "    masks_scaled = zoom(masks_inmemory, ratio, order=0)\n",
    "    nrrd.write('./masks_' + scale + '.nrrd', masks_scaled.transpose(2,1,0), compression_level=2)\n",
    "    "
   ]
  },
  {
   "cell_type": "markdown",
   "id": "6074dc97-6a29-4640-9715-459eea2afd02",
   "metadata": {},
   "source": [
    "## Inspect\n",
    "---"
   ]
  },
  {
   "cell_type": "code",
   "execution_count": 7,
   "id": "df732ce2-5ee1-4261-8f94-cdc25793da03",
   "metadata": {},
   "outputs": [],
   "source": [
    "volumes = []\n",
    "for box in boxes_processed:\n",
    "    volumes.append( np.prod( [x.stop - x.start for x in box] ))\n",
    "volumes = np.array(volumes)"
   ]
  },
  {
   "cell_type": "code",
   "execution_count": 8,
   "id": "8115f0a8-fa5b-44e3-a658-5e121bd78e95",
   "metadata": {},
   "outputs": [
    {
     "data": {
      "image/png": "[encoded data removed]",
      "text/plain": [
       "<Figure size 432x288 with 1 Axes>"
      ]
     },
     "metadata": {
      "needs_background": "light"
     },
     "output_type": "display_data"
    }
   ],
   "source": [
    "import matplotlib.pyplot as plt\n",
    "\n",
    "mn, mx = np.percentile(volumes, (0, 97))\n",
    "hist, edges = np.histogram(volumes, bins=10000, range=(mn, mx))\n",
    "plt.plot(edges[1:], hist)\n",
    "plt.show()"
   ]
  },
  {
   "cell_type": "code",
   "execution_count": null,
   "id": "16c3a860-25c5-4270-a3b5-22dd456d7c84",
   "metadata": {},
   "outputs": [],
   "source": []
  }
 ],
 "metadata": {
  "kernelspec": {
   "display_name": "bigstream",
   "language": "python",
   "name": "bigstream"
  },
  "language_info": {
   "codemirror_mode": {
    "name": "ipython",
    "version": 3
   },
   "file_extension": ".py",
   "mimetype": "text/x-python",
   "name": "python",
   "nbconvert_exporter": "python",
   "pygments_lexer": "ipython3",
   "version": "3.10.8"
  }
 },
 "nbformat": 4,
 "nbformat_minor": 5
}
